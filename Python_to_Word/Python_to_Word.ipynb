{
  "nbformat": 4,
  "nbformat_minor": 0,
  "metadata": {
    "colab": {
      "name": "Python_to_Word.ipynb",
      "provenance": [],
      "collapsed_sections": []
    },
    "kernelspec": {
      "name": "python3",
      "display_name": "Python 3"
    },
    "language_info": {
      "name": "python"
    }
  },
  "cells": [
    {
      "cell_type": "markdown",
      "source": [
        "# Converting Python to Word"
      ],
      "metadata": {
        "id": "J1qDQOBZK8NK"
      }
    },
    {
      "cell_type": "markdown",
      "source": [
        "In this tutorial we will go over how to quickly transform your python code into a Word document for easier sharing and report building.\n",
        "\n",
        "<br>\n",
        "\n",
        "---\n",
        "\n",
        "<br>\n",
        "\n",
        "This is a simple process: \n",
        "\n",
        "1. Install `pandoc`\n",
        "1. Convert `.ipynb` to `.html`\n",
        "1. Use `pandoc` to convert the `.html` file to `.docx`\n",
        "1. Download new document"
      ],
      "metadata": {
        "id": "Q7CkhFBwK8Ej"
      }
    },
    {
      "cell_type": "code",
      "execution_count": 1,
      "metadata": {
        "colab": {
          "base_uri": "https://localhost:8080/"
        },
        "id": "QdgTIuU_KiCJ",
        "outputId": "361a2401-47ce-4fda-e811-ba5788905a8b"
      },
      "outputs": [
        {
          "output_type": "stream",
          "name": "stdout",
          "text": [
            "Looking in indexes: https://pypi.org/simple, https://us-python.pkg.dev/colab-wheels/public/simple/\n",
            "Collecting pandoc\n",
            "  Downloading pandoc-2.2.tar.gz (29 kB)\n",
            "Collecting plumbum\n",
            "  Downloading plumbum-1.7.2-py2.py3-none-any.whl (117 kB)\n",
            "\u001b[K     |████████████████████████████████| 117 kB 6.9 MB/s \n",
            "\u001b[?25hCollecting ply\n",
            "  Downloading ply-3.11-py2.py3-none-any.whl (49 kB)\n",
            "\u001b[K     |████████████████████████████████| 49 kB 6.6 MB/s \n",
            "\u001b[?25hBuilding wheels for collected packages: pandoc\n",
            "  Building wheel for pandoc (setup.py) ... \u001b[?25l\u001b[?25hdone\n",
            "  Created wheel for pandoc: filename=pandoc-2.2-py3-none-any.whl size=29558 sha256=ebf7196e8e76e8a476a84a3a260eb3f3e21a01c94b7c980daeb1cd2cb29c8d0c\n",
            "  Stored in directory: /root/.cache/pip/wheels/e7/e3/1e/31f9b28058a3fc0b63be4076a4e9f6ac79c332bb7e1d6c4ec9\n",
            "Successfully built pandoc\n",
            "Installing collected packages: ply, plumbum, pandoc\n",
            "Successfully installed pandoc-2.2 plumbum-1.7.2 ply-3.11\n"
          ]
        }
      ],
      "source": [
        "!pip install pandoc\n",
        "import pandoc"
      ]
    },
    {
      "cell_type": "markdown",
      "source": [
        "---\n",
        "\n",
        "We will use the `nbconvert` command to convert our `.ipynb` file to `.html`"
      ],
      "metadata": {
        "id": "cbwlyqpVQkcd"
      }
    },
    {
      "cell_type": "code",
      "source": [
        "!jupyter nbconvert --to html /content/Fashion_MNIST.ipynb"
      ],
      "metadata": {
        "colab": {
          "base_uri": "https://localhost:8080/"
        },
        "id": "gdzAK9K4LEGO",
        "outputId": "60654ea2-5fe5-4993-beec-692f87870dfc"
      },
      "execution_count": 11,
      "outputs": [
        {
          "output_type": "stream",
          "name": "stdout",
          "text": [
            "[NbConvertApp] Converting notebook /content/Fashion_MNIST.ipynb to html\n",
            "[NbConvertApp] Writing 550923 bytes to /content/Fashion_MNIST.html\n"
          ]
        }
      ]
    },
    {
      "cell_type": "markdown",
      "source": [
        "---\n",
        "\n",
        "Finally, we will use `pandoc` to convert our `.html` file to `.docx`"
      ],
      "metadata": {
        "id": "AX12Dwt-Q1MS"
      }
    },
    {
      "cell_type": "code",
      "source": [
        "!pandoc /content/Fashion_MNIST.html -s -o Fashion_MNIST.docx"
      ],
      "metadata": {
        "colab": {
          "base_uri": "https://localhost:8080/"
        },
        "id": "zu02DUggL8Rn",
        "outputId": "7d991380-10eb-4aee-cb61-f4b2a9ddfdd2"
      },
      "execution_count": 14,
      "outputs": [
        {
          "output_type": "stream",
          "name": "stdout",
          "text": [
            "[pandoc warning] Could not find image `https://tensorflow.org/images/fashion-mnist-sprite.png', skipping...\n"
          ]
        }
      ]
    },
    {
      "cell_type": "markdown",
      "source": [
        "Et voila!\n",
        "\n",
        "You can now download your Word document!"
      ],
      "metadata": {
        "id": "499pO3jIRA9w"
      }
    }
  ]
}